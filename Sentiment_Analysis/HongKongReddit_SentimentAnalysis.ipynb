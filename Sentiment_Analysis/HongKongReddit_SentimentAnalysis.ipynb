{
 "cells": [
  {
   "cell_type": "code",
   "execution_count": 1,
   "metadata": {},
   "outputs": [
    {
     "ename": "ModuleNotFoundError",
     "evalue": "No module named 'stemming'",
     "output_type": "error",
     "traceback": [
      "\u001b[1;31m---------------------------------------------------------------------------\u001b[0m",
      "\u001b[1;31mModuleNotFoundError\u001b[0m                       Traceback (most recent call last)",
      "\u001b[1;32m<ipython-input-1-5da757d933df>\u001b[0m in \u001b[0;36m<module>\u001b[1;34m\u001b[0m\n\u001b[0;32m     14\u001b[0m \u001b[1;32mimport\u001b[0m \u001b[0mgensim\u001b[0m\u001b[1;33m\u001b[0m\u001b[1;33m\u001b[0m\u001b[0m\n\u001b[0;32m     15\u001b[0m \u001b[1;32mimport\u001b[0m \u001b[0mmatplotlib\u001b[0m\u001b[1;33m.\u001b[0m\u001b[0mpyplot\u001b[0m \u001b[1;32mas\u001b[0m \u001b[0mplt\u001b[0m\u001b[1;33m\u001b[0m\u001b[1;33m\u001b[0m\u001b[0m\n\u001b[1;32m---> 16\u001b[1;33m \u001b[1;32mfrom\u001b[0m \u001b[0mstemming\u001b[0m\u001b[1;33m.\u001b[0m\u001b[0mporter2\u001b[0m \u001b[1;32mimport\u001b[0m \u001b[0mstem\u001b[0m\u001b[1;33m\u001b[0m\u001b[1;33m\u001b[0m\u001b[0m\n\u001b[0m",
      "\u001b[1;31mModuleNotFoundError\u001b[0m: No module named 'stemming'"
     ]
    }
   ],
   "source": [
    "#Import the libraries\n",
    "from textblob import TextBlob\n",
    "import nltk\n",
    "import pandas as pd\n",
    "from textblob import TextBlob\n",
    "import pandas as pd\n",
    "import string\n",
    "import re\n",
    "from string import digits\n",
    "from sklearn.feature_extraction.stop_words import ENGLISH_STOP_WORDS\n",
    "from nltk.tokenize import word_tokenize\n",
    "from nltk.stem import WordNetLemmatizer\n",
    "from gensim import corpora\n",
    "import gensim\n",
    "import matplotlib.pyplot as plt\n",
    "from stemming.porter2 import stem"
   ]
  },
  {
   "cell_type": "code",
   "execution_count": 12,
   "metadata": {},
   "outputs": [],
   "source": [
    "import io \n",
    "import codecs\n",
    "import csv\n",
    "from nltk.corpus import stopwords \n",
    "from nltk.tokenize import word_tokenize \n",
    "\n",
    "stop_words = set(stopwords.words('english')) \n",
    "file1 = codecs.open('hong_kong_protest_reddit.csv','r','utf-8') \n",
    "line = file1.read() \n",
    "words = line.split()\n",
    "for r in words: \n",
    "    if not r in stop_words: \n",
    "        appendFile = open('hong_protest_reddit.csv','a', encoding='utf-8') \n",
    "        appendFile.write(r)\n",
    "        appendFile.write(\"\\n\")\n",
    "        appendFile.close()"
   ]
  },
  {
   "cell_type": "code",
   "execution_count": 13,
   "metadata": {},
   "outputs": [],
   "source": [
    "HongKong = pd.read_csv( 'hong_kong_protest_reddit.csv')\n",
    "HongKong = HongKong.dropna()"
   ]
  },
  {
   "cell_type": "code",
   "execution_count": 14,
   "metadata": {},
   "outputs": [
    {
     "data": {
      "text/html": [
       "<div>\n",
       "<style scoped>\n",
       "    .dataframe tbody tr th:only-of-type {\n",
       "        vertical-align: middle;\n",
       "    }\n",
       "\n",
       "    .dataframe tbody tr th {\n",
       "        vertical-align: top;\n",
       "    }\n",
       "\n",
       "    .dataframe thead th {\n",
       "        text-align: right;\n",
       "    }\n",
       "</style>\n",
       "<table border=\"1\" class=\"dataframe\">\n",
       "  <thead>\n",
       "    <tr style=\"text-align: right;\">\n",
       "      <th></th>\n",
       "      <th>comments</th>\n",
       "    </tr>\n",
       "  </thead>\n",
       "  <tbody>\n",
       "    <tr>\n",
       "      <th>0</th>\n",
       "      <td>Users often report submissions from this site ...</td>\n",
       "    </tr>\n",
       "    <tr>\n",
       "      <th>1</th>\n",
       "      <td>&gt;“The authorities should stipulate what issues...</td>\n",
       "    </tr>\n",
       "    <tr>\n",
       "      <th>2</th>\n",
       "      <td>He's a well known Chinese nationalist, this sh...</td>\n",
       "    </tr>\n",
       "    <tr>\n",
       "      <th>3</th>\n",
       "      <td>This is the best tl;dr I could make, [original...</td>\n",
       "    </tr>\n",
       "    <tr>\n",
       "      <th>4</th>\n",
       "      <td>&gt;When you see the name Jackie Chan you know yo...</td>\n",
       "    </tr>\n",
       "  </tbody>\n",
       "</table>\n",
       "</div>"
      ],
      "text/plain": [
       "                                            comments\n",
       "0  Users often report submissions from this site ...\n",
       "1  >“The authorities should stipulate what issues...\n",
       "2  He's a well known Chinese nationalist, this sh...\n",
       "3  This is the best tl;dr I could make, [original...\n",
       "4  >When you see the name Jackie Chan you know yo..."
      ]
     },
     "execution_count": 14,
     "metadata": {},
     "output_type": "execute_result"
    }
   ],
   "source": [
    "HongKong.head()"
   ]
  },
  {
   "cell_type": "code",
   "execution_count": 15,
   "metadata": {},
   "outputs": [
    {
     "data": {
      "text/plain": [
       "0        users often report submissions from this site ...\n",
       "1        the authorities should stipulate what issues p...\n",
       "2        hes a well known chinese nationalist this shou...\n",
       "3        this is the best tldr i could make originalhtt...\n",
       "4        when you see the name jackie chan you know you...\n",
       "5        china is a totalitarian regime jackie chan is ...\n",
       "6        hes very involved in the ccp and has always be...\n",
       "7                         lost a lot of respect for jackie\n",
       "8        he made a movie called looking for jackie that...\n",
       "9        once you find out who he really is and what ch...\n",
       "10                                                 deleted\n",
       "11       as i understood he has long been a chinese gov...\n",
       "12       fuck that guy this is not the first time he ha...\n",
       "13                   but what does ja think about all this\n",
       "14       worlds most concussed man has terrible opinion...\n",
       "15              chinesw man gives chinese opinions more at\n",
       "16       lets also not forget that jackie is a media ce...\n",
       "17       jackie chan is a fun actor and excellent marti...\n",
       "18                               sad to see him bought out\n",
       "19       rich celeb shows that he couldnt give a fuck a...\n",
       "20       hardly surprising jackie chan has been a commu...\n",
       "21       the guy is a movie star he lives a posh and sp...\n",
       "22       isnt he essentially a national representative ...\n",
       "23       i also deeply feel that safety stability and p...\n",
       "24                        he took to many hits to the head\n",
       "25       fuck jackie chan he thinks he knows the issue ...\n",
       "26       think about all his assets being put on the li...\n",
       "27       til if you didnt know jackie chan is a shitty ...\n",
       "28       alternative title could be almost a billion of...\n",
       "29                                        fuck jackie chan\n",
       "                               ...                        \n",
       "78070    explain you want me to explain a meaning of a ...\n",
       "78071    not rushing a crowd with a firearm and not aim...\n",
       "78072    police didnt do anything until rioters began w...\n",
       "78073    strike httpswwwreuterscominvestigatesspecial r...\n",
       "78074    words certainly have meaning and the meaning i...\n",
       "78075    if you cant explain the point youre trying to ...\n",
       "78076    the crowd was attacking a police officer unpro...\n",
       "78077    until rioters began whining over a bill ah so ...\n",
       "78078    strike im going to quote your own linked artic...\n",
       "78079    it absolutely is incorrect to call them nazis ...\n",
       "78080    defending themselves from abuse of power keep ...\n",
       "78081     dont need to why should criminals run the asylum\n",
       "78082    perhaps you could read the rest of the article...\n",
       "78083    interestingly the dictionary seems to disagree...\n",
       "78084    by attacking someone unprovoked you have some ...\n",
       "78085    cute talking point made by someone not arguing...\n",
       "78086                                              deleted\n",
       "78087    do you have any evidence of unprovoked attack ...\n",
       "78088                                      im anti anarchy\n",
       "78089    ah that explains a lot then didnt know what hi...\n",
       "78090    lol theres a entire video of it you have evide...\n",
       "78091    so tell me where do you get your news sources ...\n",
       "78092                             you have the video of it\n",
       "78093    i look at a variety of news sources ctv cnn gl...\n",
       "78094    i mean its only been linked everywhere but sur...\n",
       "78095    i call bullshit that having ingested all this ...\n",
       "78096    yep broke rank and look at all the backup righ...\n",
       "78097    none since i dont read chinese news sources i ...\n",
       "78098    lol what rank they werent in formation man thi...\n",
       "78099    guess all my friends in hong kong must be lyin...\n",
       "Name: comments, Length: 78094, dtype: object"
      ]
     },
     "execution_count": 15,
     "metadata": {},
     "output_type": "execute_result"
    }
   ],
   "source": [
    "def preprocessing(x):\n",
    "    x = x.lower()\n",
    "#     x = x.replace('—', ' ')\n",
    "    x = x.replace('-', ' ')\n",
    "    x = re.sub('\\w+@\\w+\\.[a-z]{3}', ' ', x)\n",
    "    x = x.translate(str.maketrans(\" \", \" \", string.punctuation))\n",
    "    x = x.translate(str.maketrans('', '', digits))\n",
    "    x = x.replace('“', '')\n",
    "    x = x.replace('”', '')\n",
    "    x = x.replace('…', '')\n",
    "    x = x.replace('’', '')\n",
    "    x = x.replace('‘', '')  \n",
    "    x = ' '.join(x.split())\n",
    "    x = x.split('—')\n",
    "#     print(x)\n",
    "    if(x[0].isupper()):\n",
    "        x = x[1:]\n",
    "    x = ' '.join(x)\n",
    "    x = x.strip()\n",
    "    x = x.replace('  ', '')\n",
    "    return x\n",
    "HongKong['comments'].apply(preprocessing)"
   ]
  },
  {
   "cell_type": "code",
   "execution_count": 19,
   "metadata": {},
   "outputs": [
    {
     "data": {
      "text/html": [
       "<div>\n",
       "<style scoped>\n",
       "    .dataframe tbody tr th:only-of-type {\n",
       "        vertical-align: middle;\n",
       "    }\n",
       "\n",
       "    .dataframe tbody tr th {\n",
       "        vertical-align: top;\n",
       "    }\n",
       "\n",
       "    .dataframe thead th {\n",
       "        text-align: right;\n",
       "    }\n",
       "</style>\n",
       "<table border=\"1\" class=\"dataframe\">\n",
       "  <thead>\n",
       "    <tr style=\"text-align: right;\">\n",
       "      <th></th>\n",
       "      <th>comments</th>\n",
       "    </tr>\n",
       "  </thead>\n",
       "  <tbody>\n",
       "    <tr>\n",
       "      <th>0</th>\n",
       "      <td>Users often report submissions from this site ...</td>\n",
       "    </tr>\n",
       "    <tr>\n",
       "      <th>1</th>\n",
       "      <td>&gt;“The authorities should stipulate what issues...</td>\n",
       "    </tr>\n",
       "    <tr>\n",
       "      <th>2</th>\n",
       "      <td>He's a well known Chinese nationalist, this sh...</td>\n",
       "    </tr>\n",
       "    <tr>\n",
       "      <th>3</th>\n",
       "      <td>This is the best tl;dr I could make, [original...</td>\n",
       "    </tr>\n",
       "    <tr>\n",
       "      <th>4</th>\n",
       "      <td>&gt;When you see the name Jackie Chan you know yo...</td>\n",
       "    </tr>\n",
       "  </tbody>\n",
       "</table>\n",
       "</div>"
      ],
      "text/plain": [
       "                                            comments\n",
       "0  Users often report submissions from this site ...\n",
       "1  >“The authorities should stipulate what issues...\n",
       "2  He's a well known Chinese nationalist, this sh...\n",
       "3  This is the best tl;dr I could make, [original...\n",
       "4  >When you see the name Jackie Chan you know yo..."
      ]
     },
     "execution_count": 19,
     "metadata": {},
     "output_type": "execute_result"
    }
   ],
   "source": [
    "def get_stemmed_text(corpus):\n",
    "    from nltk.stem.porter import PorterStemmer\n",
    "    stemmer = PorterStemmer()\n",
    "    return [' '.join([stemmer.stem(word) for word in review.split()]) for review in corpus]\n",
    "\n",
    "HongKong['comments'].apply(get_stemmed_text)\n",
    "HongKong.head()"
   ]
  },
  {
   "cell_type": "code",
   "execution_count": 22,
   "metadata": {},
   "outputs": [
    {
     "name": "stdout",
     "output_type": "stream",
     "text": [
      "34826\n",
      "20199\n",
      "78094\n"
     ]
    }
   ],
   "source": [
    "comments = HongKong['comments']\n",
    "counter = 0\n",
    "positive_sentiment_array = []\n",
    "negative_sentiment_array = []\n",
    "sentiment_score_array = []\n",
    "label_array = []\n",
    "topic_array = []\n",
    "for comment in comments:\n",
    "    counter += 1\n",
    "    obj = TextBlob( comment )\n",
    "    sentiment = obj.sentiment.polarity\n",
    "    if sentiment > 0.0:\n",
    "            positive_sentiment_array.append(obj)\n",
    "            label_array.append(\"positive\")\n",
    "    if sentiment <0.0:\n",
    "            negative_sentiment_array.append(obj)\n",
    "            label_array.append(\"negative\")\n",
    "    if sentiment == 0.0:\n",
    "            label_array.append('neutral')\n",
    "    sentiment_score_array.append(sentiment)\n",
    "    topic_array.append(\"Hong Kong Protest\")\n",
    "    \n",
    "#returns the sentiment of text\n",
    "#by returning a value between -1.0 and 1.0\n",
    "\n",
    "print(len(positive_sentiment_array))\n",
    "print(len(negative_sentiment_array))\n",
    "print(counter)"
   ]
  },
  {
   "cell_type": "code",
   "execution_count": 23,
   "metadata": {},
   "outputs": [],
   "source": [
    "HongKong.insert(1, \"Score\", sentiment_score_array , True) \n",
    "HongKong.insert(2, \"Label\", label_array , True) \n",
    "HongKong.insert(3, \"Topic\", topic_array , True) "
   ]
  },
  {
   "cell_type": "code",
   "execution_count": 24,
   "metadata": {},
   "outputs": [
    {
     "data": {
      "text/html": [
       "<div>\n",
       "<style scoped>\n",
       "    .dataframe tbody tr th:only-of-type {\n",
       "        vertical-align: middle;\n",
       "    }\n",
       "\n",
       "    .dataframe tbody tr th {\n",
       "        vertical-align: top;\n",
       "    }\n",
       "\n",
       "    .dataframe thead th {\n",
       "        text-align: right;\n",
       "    }\n",
       "</style>\n",
       "<table border=\"1\" class=\"dataframe\">\n",
       "  <thead>\n",
       "    <tr style=\"text-align: right;\">\n",
       "      <th></th>\n",
       "      <th>comments</th>\n",
       "      <th>Score</th>\n",
       "      <th>Label</th>\n",
       "      <th>Topic</th>\n",
       "    </tr>\n",
       "  </thead>\n",
       "  <tbody>\n",
       "    <tr>\n",
       "      <th>0</th>\n",
       "      <td>Users often report submissions from this site ...</td>\n",
       "      <td>-0.075000</td>\n",
       "      <td>negative</td>\n",
       "      <td>Hong Kong Protest</td>\n",
       "    </tr>\n",
       "    <tr>\n",
       "      <th>1</th>\n",
       "      <td>&gt;“The authorities should stipulate what issues...</td>\n",
       "      <td>0.800000</td>\n",
       "      <td>positive</td>\n",
       "      <td>Hong Kong Protest</td>\n",
       "    </tr>\n",
       "    <tr>\n",
       "      <th>2</th>\n",
       "      <td>He's a well known Chinese nationalist, this sh...</td>\n",
       "      <td>0.000000</td>\n",
       "      <td>neutral</td>\n",
       "      <td>Hong Kong Protest</td>\n",
       "    </tr>\n",
       "    <tr>\n",
       "      <th>3</th>\n",
       "      <td>This is the best tl;dr I could make, [original...</td>\n",
       "      <td>0.322222</td>\n",
       "      <td>positive</td>\n",
       "      <td>Hong Kong Protest</td>\n",
       "    </tr>\n",
       "    <tr>\n",
       "      <th>4</th>\n",
       "      <td>&gt;When you see the name Jackie Chan you know yo...</td>\n",
       "      <td>0.114286</td>\n",
       "      <td>positive</td>\n",
       "      <td>Hong Kong Protest</td>\n",
       "    </tr>\n",
       "  </tbody>\n",
       "</table>\n",
       "</div>"
      ],
      "text/plain": [
       "                                            comments     Score     Label  \\\n",
       "0  Users often report submissions from this site ... -0.075000  negative   \n",
       "1  >“The authorities should stipulate what issues...  0.800000  positive   \n",
       "2  He's a well known Chinese nationalist, this sh...  0.000000   neutral   \n",
       "3  This is the best tl;dr I could make, [original...  0.322222  positive   \n",
       "4  >When you see the name Jackie Chan you know yo...  0.114286  positive   \n",
       "\n",
       "               Topic  \n",
       "0  Hong Kong Protest  \n",
       "1  Hong Kong Protest  \n",
       "2  Hong Kong Protest  \n",
       "3  Hong Kong Protest  \n",
       "4  Hong Kong Protest  "
      ]
     },
     "execution_count": 24,
     "metadata": {},
     "output_type": "execute_result"
    }
   ],
   "source": [
    "HongKong.head()"
   ]
  },
  {
   "cell_type": "code",
   "execution_count": 26,
   "metadata": {},
   "outputs": [],
   "source": [
    "HongKong.to_csv('HongKongProtestSentimentAnalysis.csv',encoding='utf-8-sig')"
   ]
  },
  {
   "cell_type": "code",
   "execution_count": null,
   "metadata": {},
   "outputs": [],
   "source": []
  }
 ],
 "metadata": {
  "kernelspec": {
   "display_name": "Python 3",
   "language": "python",
   "name": "python3"
  },
  "language_info": {
   "codemirror_mode": {
    "name": "ipython",
    "version": 3
   },
   "file_extension": ".py",
   "mimetype": "text/x-python",
   "name": "python",
   "nbconvert_exporter": "python",
   "pygments_lexer": "ipython3",
   "version": "3.7.3"
  }
 },
 "nbformat": 4,
 "nbformat_minor": 2
}
