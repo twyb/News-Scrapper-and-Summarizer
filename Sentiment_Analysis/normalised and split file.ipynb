{
 "cells": [
  {
   "cell_type": "code",
   "execution_count": 1,
   "metadata": {},
   "outputs": [],
   "source": [
    "import pandas as pd"
   ]
  },
  {
   "cell_type": "code",
   "execution_count": 2,
   "metadata": {},
   "outputs": [
    {
     "name": "stderr",
     "output_type": "stream",
     "text": [
      "/Users/yuankanglee/anaconda3/lib/python3.7/site-packages/IPython/core/interactiveshell.py:3049: DtypeWarning: Columns (0,2) have mixed types. Specify dtype option on import or set low_memory=False.\n",
      "  interactivity=interactivity, compiler=compiler, result=result)\n"
     ]
    }
   ],
   "source": [
    "Boeing_sentiment = pd.read_csv('../Individual_SentimentAnalysis_Files/Boeing_SentimentAnalysis.csv')\n",
    "brexit_sentiment = pd.read_csv('../Individual_SentimentAnalysis_Files/Brexit_SentimentAnalysis.csv')\n",
    "HongKongProtest_sentiment = pd.read_csv('../Individual_SentimentAnalysis_Files/HongKongProtestSentimentAnalysis.csv')\n",
    "Iran_Sanctions_sentiment = pd.read_csv('../Individual_SentimentAnalysis_Files/Iran_Sanctions_SentimentAnalysis.csv')\n",
    "SyrianCivilWar_sentiment = pd.read_csv('../Individual_SentimentAnalysis_Files/SyrianCivilWar_SentimentAnalysis.csv')\n",
    "USChina_TradeWar_sentiment = pd.read_csv('../Individual_SentimentAnalysis_Files/USChina_TradeWar_SentimentAnalysis.csv')"
   ]
  },
  {
   "cell_type": "code",
   "execution_count": 3,
   "metadata": {},
   "outputs": [
    {
     "name": "stderr",
     "output_type": "stream",
     "text": [
      "/Users/yuankanglee/anaconda3/lib/python3.7/site-packages/ipykernel_launcher.py:1: FutureWarning: convert_objects is deprecated.  To re-infer data dtypes for object columns, use Series.infer_objects()\n",
      "For all other conversions use the data-type specific converters pd.to_datetime, pd.to_timedelta and pd.to_numeric.\n",
      "  \"\"\"Entry point for launching an IPython kernel.\n"
     ]
    }
   ],
   "source": [
    "Boeing_sentiment['Score'] = Boeing_sentiment.Score.convert_objects(convert_numeric=True)\n",
    "max_score = Boeing_sentiment['Score'].max()\n",
    "min_score = Boeing_sentiment['Score'].min()\n",
    "\n",
    "Boeing_sentiment['normalized_score'] = Boeing_sentiment.apply(\n",
    "lambda x: (x['Score'] - min_score)/(max_score-min_score), axis=1)\n",
    "\n",
    "def positive_or_negative(x):\n",
    "    if x > 0.5:\n",
    "        return 'positive'\n",
    "    elif x < 0.5:\n",
    "        return 'negative'\n",
    "    elif x == 0.5:\n",
    "        return 'neutral'\n",
    "\n",
    "Boeing_sentiment['normalized_pos_neg'] = Boeing_sentiment.apply(\n",
    "lambda x: positive_or_negative(x['normalized_score']) , axis=1)\n",
    "Boeing_sentiment['normalized_score'].mean()\n",
    "\n",
    "pos_boeing_sentiment = Boeing_sentiment[Boeing_sentiment['normalized_pos_neg'] == 'positive']\n",
    "neg_boeing_sentiment = Boeing_sentiment[Boeing_sentiment['normalized_pos_neg'] == 'negative']\n",
    "pos_boeing_sentiment.to_csv('../sentiment_split/pos_boeing_sentiment.csv',encoding='utf-8-sig', index=False)\n",
    "neg_boeing_sentiment.to_csv('../sentiment_split/neg_boeing_sentiment.csv',encoding='utf-8-sig', index=False)"
   ]
  },
  {
   "cell_type": "code",
   "execution_count": 4,
   "metadata": {},
   "outputs": [
    {
     "name": "stderr",
     "output_type": "stream",
     "text": [
      "/Users/yuankanglee/anaconda3/lib/python3.7/site-packages/ipykernel_launcher.py:1: FutureWarning: convert_objects is deprecated.  To re-infer data dtypes for object columns, use Series.infer_objects()\n",
      "For all other conversions use the data-type specific converters pd.to_datetime, pd.to_timedelta and pd.to_numeric.\n",
      "  \"\"\"Entry point for launching an IPython kernel.\n"
     ]
    }
   ],
   "source": [
    "brexit_sentiment['Score'] = brexit_sentiment.Score.convert_objects(convert_numeric=True)\n",
    "max_score = brexit_sentiment['Score'].max()\n",
    "min_score = brexit_sentiment['Score'].min()\n",
    "\n",
    "brexit_sentiment['normalized_score'] = brexit_sentiment.apply(\n",
    "lambda x: (x['Score'] - min_score)/(max_score-min_score), axis=1)\n",
    "\n",
    "def positive_or_negative(x):\n",
    "    if x > 0.5:\n",
    "        return 'positive'\n",
    "    elif x < 0.5:\n",
    "        return 'negative'\n",
    "    elif x == 0.5:\n",
    "        return 'neutral'\n",
    "\n",
    "brexit_sentiment['normalized_pos_neg'] = brexit_sentiment.apply(\n",
    "lambda x: positive_or_negative(x['normalized_score']) , axis=1)\n",
    "brexit_sentiment['normalized_score'].mean()\n",
    "\n",
    "pos_brexit_sentiment = brexit_sentiment[brexit_sentiment['normalized_pos_neg'] == 'positive']\n",
    "neg_brexit_sentiment = brexit_sentiment[brexit_sentiment['normalized_pos_neg'] == 'negative']\n",
    "pos_brexit_sentiment.to_csv('../sentiment_split/pos_brexit_sentiment.csv',encoding='utf-8-sig', index=False)\n",
    "neg_brexit_sentiment.to_csv('../sentiment_split/neg_brexit_sentiment.csv',encoding='utf-8-sig', index=False)"
   ]
  },
  {
   "cell_type": "code",
   "execution_count": 14,
   "metadata": {},
   "outputs": [
    {
     "name": "stderr",
     "output_type": "stream",
     "text": [
      "/Users/yuankanglee/anaconda3/lib/python3.7/site-packages/ipykernel_launcher.py:1: FutureWarning: convert_objects is deprecated.  To re-infer data dtypes for object columns, use Series.infer_objects()\n",
      "For all other conversions use the data-type specific converters pd.to_datetime, pd.to_timedelta and pd.to_numeric.\n",
      "  \"\"\"Entry point for launching an IPython kernel.\n"
     ]
    }
   ],
   "source": [
    "HongKongProtest_sentiment['Score'] = HongKongProtest_sentiment.Score.convert_objects(convert_numeric=True)\n",
    "max_score = HongKongProtest_sentiment['Score'].max()\n",
    "min_score = HongKongProtest_sentiment['Score'].min()\n",
    "\n",
    "HongKongProtest_sentiment['normalized_score'] = HongKongProtest_sentiment.apply(\n",
    "lambda x: (x['Score'] - min_score)/(max_score-min_score), axis=1)\n",
    "\n",
    "def positive_or_negative(x):\n",
    "    if x > 0.5:\n",
    "        return 'positive'\n",
    "    elif x < 0.5:\n",
    "        return 'negative'\n",
    "    elif x == 0.5:\n",
    "        return 'neutral'\n",
    "\n",
    "HongKongProtest_sentiment['normalized_pos_neg'] = HongKongProtest_sentiment.apply(\n",
    "lambda x: positive_or_negative(x['normalized_score']) , axis=1)\n",
    "HongKongProtest_sentiment['normalized_score'].mean()\n",
    "\n",
    "pos_HongKongProtest_sentiment = HongKongProtest_sentiment[HongKongProtest_sentiment['normalized_pos_neg'] == 'positive']\n",
    "neg_HongKongProtest_sentiment = HongKongProtest_sentiment[HongKongProtest_sentiment['normalized_pos_neg'] == 'negative']\n",
    "pos_HongKongProtest_sentiment.to_csv('../sentiment_split/pos_HongKongProtest_sentiment.csv',encoding='utf-8-sig', index=False)\n",
    "neg_HongKongProtest_sentiment.to_csv('../sentiment_split/neg_HongKongProtest_sentiment.csv',encoding='utf-8-sig', index=False)"
   ]
  },
  {
   "cell_type": "code",
   "execution_count": 6,
   "metadata": {},
   "outputs": [
    {
     "name": "stderr",
     "output_type": "stream",
     "text": [
      "/Users/yuankanglee/anaconda3/lib/python3.7/site-packages/ipykernel_launcher.py:1: FutureWarning: convert_objects is deprecated.  To re-infer data dtypes for object columns, use Series.infer_objects()\n",
      "For all other conversions use the data-type specific converters pd.to_datetime, pd.to_timedelta and pd.to_numeric.\n",
      "  \"\"\"Entry point for launching an IPython kernel.\n"
     ]
    }
   ],
   "source": [
    "Iran_Sanctions_sentiment['Score'] = Iran_Sanctions_sentiment.Score.convert_objects(convert_numeric=True)\n",
    "max_score = Iran_Sanctions_sentiment['Score'].max()\n",
    "min_score = Iran_Sanctions_sentiment['Score'].min()\n",
    "\n",
    "Iran_Sanctions_sentiment['normalized_score'] = Iran_Sanctions_sentiment.apply(\n",
    "lambda x: (x['Score'] - min_score)/(max_score-min_score), axis=1)\n",
    "\n",
    "def positive_or_negative(x):\n",
    "    if x > 0.5:\n",
    "        return 'positive'\n",
    "    elif x < 0.5:\n",
    "        return 'negative'\n",
    "    elif x == 0.5:\n",
    "        return 'neutral'\n",
    "\n",
    "Iran_Sanctions_sentiment['normalized_pos_neg'] = Iran_Sanctions_sentiment.apply(\n",
    "lambda x: positive_or_negative(x['normalized_score']) , axis=1)\n",
    "Iran_Sanctions_sentiment['normalized_score'].mean()\n",
    "\n",
    "pos_Iran_Sanctions_sentiment = Iran_Sanctions_sentiment[Iran_Sanctions_sentiment['normalized_pos_neg'] == 'positive']\n",
    "neg_Iran_Sanctions_sentiment = Iran_Sanctions_sentiment[Iran_Sanctions_sentiment['normalized_pos_neg'] == 'negative']\n",
    "pos_Iran_Sanctions_sentiment.to_csv('../sentiment_split/pos_Iran_Sanctions_sentiment.csv',encoding='utf-8-sig', index=False)\n",
    "neg_Iran_Sanctions_sentiment.to_csv('../sentiment_split/neg_Iran_Sanctions_sentiment.csv',encoding='utf-8-sig', index=False)"
   ]
  },
  {
   "cell_type": "code",
   "execution_count": 7,
   "metadata": {},
   "outputs": [
    {
     "name": "stderr",
     "output_type": "stream",
     "text": [
      "/Users/yuankanglee/anaconda3/lib/python3.7/site-packages/ipykernel_launcher.py:1: FutureWarning: convert_objects is deprecated.  To re-infer data dtypes for object columns, use Series.infer_objects()\n",
      "For all other conversions use the data-type specific converters pd.to_datetime, pd.to_timedelta and pd.to_numeric.\n",
      "  \"\"\"Entry point for launching an IPython kernel.\n"
     ]
    }
   ],
   "source": [
    "SyrianCivilWar_sentiment['Score'] = SyrianCivilWar_sentiment.Score.convert_objects(convert_numeric=True)\n",
    "max_score = SyrianCivilWar_sentiment['Score'].max()\n",
    "min_score = SyrianCivilWar_sentiment['Score'].min()\n",
    "\n",
    "SyrianCivilWar_sentiment['normalized_score'] = SyrianCivilWar_sentiment.apply(\n",
    "lambda x: (x['Score'] - min_score)/(max_score-min_score), axis=1)\n",
    "\n",
    "def positive_or_negative(x):\n",
    "    if x > 0.5:\n",
    "        return 'positive'\n",
    "    elif x < 0.5:\n",
    "        return 'negative'\n",
    "    elif x == 0.5:\n",
    "        return 'neutral'\n",
    "\n",
    "SyrianCivilWar_sentiment['normalized_pos_neg'] = SyrianCivilWar_sentiment.apply(\n",
    "lambda x: positive_or_negative(x['normalized_score']) , axis=1)\n",
    "SyrianCivilWar_sentiment['normalized_score'].mean()\n",
    "\n",
    "pos_SyrianCivilWar_sentiment = SyrianCivilWar_sentiment[SyrianCivilWar_sentiment['normalized_pos_neg'] == 'positive']\n",
    "neg_SyrianCivilWar_sentiment = SyrianCivilWar_sentiment[SyrianCivilWar_sentiment['normalized_pos_neg'] == 'negative']\n",
    "pos_SyrianCivilWar_sentiment.to_csv('../sentiment_split/pos_SyrianCivilWar_sentiment.csv',encoding='utf-8-sig', index=False)\n",
    "neg_SyrianCivilWar_sentiment.to_csv('../sentiment_split/neg_SyrianCivilWar_sentiment.csv',encoding='utf-8-sig', index=False)"
   ]
  },
  {
   "cell_type": "code",
   "execution_count": 10,
   "metadata": {},
   "outputs": [
    {
     "name": "stderr",
     "output_type": "stream",
     "text": [
      "/Users/yuankanglee/anaconda3/lib/python3.7/site-packages/ipykernel_launcher.py:1: FutureWarning: convert_objects is deprecated.  To re-infer data dtypes for object columns, use Series.infer_objects()\n",
      "For all other conversions use the data-type specific converters pd.to_datetime, pd.to_timedelta and pd.to_numeric.\n",
      "  \"\"\"Entry point for launching an IPython kernel.\n"
     ]
    }
   ],
   "source": [
    "USChina_TradeWar_sentiment['Score'] = USChina_TradeWar_sentiment.Score.convert_objects(convert_numeric=True)\n",
    "max_score = USChina_TradeWar_sentiment['Score'].max()\n",
    "min_score = USChina_TradeWar_sentiment['Score'].min()\n",
    "\n",
    "USChina_TradeWar_sentiment['normalized_score'] = USChina_TradeWar_sentiment.apply(\n",
    "lambda x: (x['Score'] - min_score)/(max_score-min_score), axis=1)\n",
    "\n",
    "def positive_or_negative(x):\n",
    "    if x > 0.5:\n",
    "        return 'positive'\n",
    "    elif x < 0.5:\n",
    "        return 'negative'\n",
    "    elif x == 0.5:\n",
    "        return 'neutral'\n",
    "\n",
    "USChina_TradeWar_sentiment['normalized_pos_neg'] = USChina_TradeWar_sentiment.apply(\n",
    "lambda x: positive_or_negative(x['normalized_score']) , axis=1)\n",
    "USChina_TradeWar_sentiment['normalized_score'].mean()\n",
    "\n",
    "pos_USChina_TradeWar_sentiment = USChina_TradeWar_sentiment[USChina_TradeWar_sentiment['normalized_pos_neg'] == 'positive']\n",
    "neg_USChina_TradeWar_sentiment = USChina_TradeWar_sentiment[USChina_TradeWar_sentiment['normalized_pos_neg'] == 'negative']\n",
    "pos_USChina_TradeWar_sentiment.to_csv('../sentiment_split/pos_USChina_TradeWar_sentiment.csv',encoding='utf-8-sig', index=False)\n",
    "neg_USChina_TradeWar_sentiment.to_csv('../sentiment_split/neg_USChina_TradeWar_sentiment.csv',encoding='utf-8-sig', index=False)"
   ]
  },
  {
   "cell_type": "code",
   "execution_count": 13,
   "metadata": {},
   "outputs": [
    {
     "name": "stdout",
     "output_type": "stream",
     "text": [
      "Boeing:  0.5329870333406753\n",
      "Brexit:  0.5255899790392367\n",
      "Hong Kong Protest:  0.5238767226086901\n",
      "Iran Sanctions:  0.5214894393164528\n",
      "US China Tradewar:  0.5329870333406753\n"
     ]
    }
   ],
   "source": [
    "print(\"Boeing: \",Boeing_sentiment['normalized_score'].mean())\n",
    "print(\"Brexit: \",brexit_sentiment['normalized_score'].mean())\n",
    "print(\"Hong Kong Protest: \",HongKongProtest_sentiment['normalized_score'].mean())\n",
    "print(\"Iran Sanctions: \",Iran_Sanctions_sentiment['normalized_score'].mean())\n",
    "print(\"US China Tradewar: \",USChina_TradeWar_sentiment['normalized_score'].mean())"
   ]
  },
  {
   "cell_type": "code",
   "execution_count": null,
   "metadata": {},
   "outputs": [],
   "source": []
  }
 ],
 "metadata": {
  "kernelspec": {
   "display_name": "Python 3",
   "language": "python",
   "name": "python3"
  },
  "language_info": {
   "codemirror_mode": {
    "name": "ipython",
    "version": 3
   },
   "file_extension": ".py",
   "mimetype": "text/x-python",
   "name": "python",
   "nbconvert_exporter": "python",
   "pygments_lexer": "ipython3",
   "version": "3.7.3"
  }
 },
 "nbformat": 4,
 "nbformat_minor": 2
}
